{
 "cells": [
  {
   "cell_type": "markdown",
   "metadata": {},
   "source": [
    "### Compare the performance of CNN, CNN with batch norm versus fully connected Neural net "
   ]
  },
  {
   "cell_type": "code",
   "execution_count": 1,
   "metadata": {},
   "outputs": [],
   "source": [
    "import numpy as np\n",
    "\n",
    "import torch\n",
    "from torchvision import datasets, transforms\n",
    "\n",
    "import torch.optim as optim\n",
    "\n",
    "import torch.nn as nn\n",
    "import torch.nn.functional as F\n",
    "\n",
    "import matplotlib.pyplot as plt\n",
    "%matplotlib inline\n",
    "\n",
    "from tqdm import tqdm"
   ]
  },
  {
   "cell_type": "code",
   "execution_count": 2,
   "metadata": {},
   "outputs": [],
   "source": [
    "#defining common parameters and visualization function\n",
    "\n",
    "batch_size = 64\n",
    "n_epochs = 20\n",
    "print_every = 300\n"
   ]
  },
  {
   "cell_type": "code",
   "execution_count": 3,
   "metadata": {},
   "outputs": [],
   "source": [
    "#setting up transforming of the images\n",
    "transform = transforms.Compose([transforms.ToTensor(), transforms.Normalize((0.5,), (0.5,))])\n",
    "\n",
    "#loading train and val sets\n",
    "trainset = datasets.MNIST('~/.pytorch/MNIST_data/', download=True, train=True, transform=transform)\n",
    "trainloader = torch.utils.data.DataLoader(trainset, batch_size=batch_size, shuffle=True)\n",
    "\n",
    "testset = datasets.MNIST('~/.pytorch/MNIST_data/', download=True, train=False, transform=transform)\n",
    "testloader = torch.utils.data.DataLoader(testset, batch_size=batch_size, shuffle=False)\n"
   ]
  },
  {
   "cell_type": "code",
   "execution_count": 4,
   "metadata": {},
   "outputs": [
    {
     "name": "stdout",
     "output_type": "stream",
     "text": [
      "{'0 - zero': 0, '7 - seven': 7, '6 - six': 6, '1 - one': 1, '3 - three': 3, '5 - five': 5, '9 - nine': 9, '2 - two': 2, '8 - eight': 8, '4 - four': 4}\n"
     ]
    },
    {
     "data": {
      "image/png": "[encoded data removed]",
      "text/plain": [
       "<matplotlib.figure.Figure at 0x2999b1a4358>"
      ]
     },
     "metadata": {
      "needs_background": "light"
     },
     "output_type": "display_data"
    }
   ],
   "source": [
    "img, lab = next(iter(trainloader))\n",
    "fig, ax = plt.subplots()\n",
    "ax.imshow(np.squeeze(img[0].numpy()), cmap='gray')\n",
    "    # print out the correct label for each image\n",
    "    # .item() gets the value contained in a Tensor\n",
    "ax.set_title(str(lab[0].item()))\n",
    "print(trainset.class_to_idx)"
   ]
  },
  {
   "cell_type": "code",
   "execution_count": 5,
   "metadata": {},
   "outputs": [],
   "source": [
    "#create a fully connected layer\n",
    "class MLP(nn.Module):\n",
    "    def __init__(self, input_size, output_size, hidden_layers, drop_p=0.5):\n",
    "        super(MLP, self).__init__()\n",
    "        \n",
    "        #first layer\n",
    "        self.hidden_layers = nn.ModuleList([nn.Linear(input_size, hidden_layers[0])])\n",
    "        \n",
    "        #intermediate layers\n",
    "        layer_sizes = zip(hidden_layers[:-1], hidden_layers[1:])\n",
    "        self.hidden_layers.extend([nn.Linear(h1, h2) for (h1, h2) in layer_sizes])\n",
    "        \n",
    "        #output layer\n",
    "        self.output = nn.Linear(hidden_layers[-1], output_size)\n",
    "        \n",
    "        #droput\n",
    "        self.dropout = nn.Dropout(p=drop_p)\n",
    "    \n",
    "    def forward(self, x):\n",
    "        #looping through hidden layers\n",
    "        x = x.view(x.shape[0], -1)\n",
    "        \n",
    "        for each in self.hidden_layers:\n",
    "            x = F.relu(each(x))\n",
    "            x = self.dropout(x)\n",
    "        \n",
    "        #final layer\n",
    "        x = self.output(x)\n",
    "        \n",
    "        #softmax for multi output classifications\n",
    "        x = F.log_softmax(x, dim=1)\n",
    "        \n",
    "        return x\n",
    "        \n",
    "        "
   ]
  },
  {
   "cell_type": "code",
   "execution_count": 6,
   "metadata": {},
   "outputs": [],
   "source": [
    "#image size after Convolution = (size_before - kernel_size + 2*padding) // stride + 1 \n",
    "def conv(in_channels, out_channels, kernel_size, stride, padding=1, batch_norm=True, maxpool=True):\n",
    "    layers=[]\n",
    "    \n",
    "    conv_layers = nn.Conv2d(in_channels=in_channels, out_channels=out_channels, kernel_size=kernel_size,\n",
    "                           stride=stride, padding=padding, bias = (not batch_norm))\n",
    "    layers.append(conv_layers)\n",
    "    \n",
    "    if batch_norm:\n",
    "        layers.append(nn.BatchNorm2d(out_channels))\n",
    "    \n",
    "    #if maxpool: #onlyu sue maxpool for large images, to adapt this size stride / use\n",
    "    #    layers.append(nn.MaxPool2d(2,2))\n",
    "    \n",
    "    return nn.Sequential(*layers)"
   ]
  },
  {
   "cell_type": "code",
   "execution_count": 7,
   "metadata": {},
   "outputs": [],
   "source": [
    "#create a CNN/maxpooling where depths increase by 2 for each convolution starting from a given conv_dims_base\n",
    "#we assume a square image\n",
    "class CNN(nn.Module):\n",
    "    def __init__(self,  conv_dims_base, conv_depth, image_size, output_size, bact_norm=False, drop_p=0.5):\n",
    "        super(CNN, self).__init__()\n",
    "        \n",
    "        #first convolutio\n",
    "        self.conv_layers = nn.ModuleList([conv(1, conv_dims_base, kernel_size=3, stride=2, batch_norm=bact_norm)])  \n",
    "        self.image_size = int(image_size / 2)\n",
    "        \n",
    "        if conv_depth>1:\n",
    "            self.conv_layers.extend([conv(conv_dims_base * 2**(i-1), conv_dims_base * 2**i,\n",
    "                                          kernel_size=3, stride=2, batch_norm=bact_norm) for i in np.arange(1, conv_depth)])\n",
    "            self.image_size = int(self.image_size /  2 **(conv_depth-1))\n",
    "        \n",
    "        self.fc1 = nn.Linear(self.image_size*self.image_size * conv_dims_base * 2**(conv_depth-1), 2*output_size)\n",
    "        self.fc2 = nn.Linear(2*output_size, output_size)\n",
    "        \n",
    "        self.dropout = nn.Dropout(p=drop_p)\n",
    "        \n",
    "    def forward(self, x):\n",
    "\n",
    "        for each in self.conv_layers:\n",
    "            x = F.relu(each(x))\n",
    "    \n",
    "        x = x.view(x.shape[0], -1)\n",
    "        \n",
    "        x = F.relu(self.fc1(x))\n",
    "        x = self.dropout(x)\n",
    "        \n",
    "        x = F.log_softmax(self.fc2(x), dim=1)\n",
    "        \n",
    "        return x\n"
   ]
  },
  {
   "cell_type": "code",
   "execution_count": 8,
   "metadata": {},
   "outputs": [],
   "source": [
    "def complexity_parameters(neural_net):\n",
    "    #Computing the numbers of parameters involved for a given neural net\n",
    "    param_count=0\n",
    "    \n",
    "    for i in neural_net.state_dict().values():\n",
    "        dim_i = list(i.shape)\n",
    "        param_count += np.prod(dim_i)\n",
    "    \n",
    "    return int(param_count)"
   ]
  },
  {
   "cell_type": "code",
   "execution_count": 9,
   "metadata": {},
   "outputs": [
    {
     "name": "stdout",
     "output_type": "stream",
     "text": [
      "59850\n",
      "36390\n",
      "36536\n"
     ]
    }
   ],
   "source": [
    "mlp = MLP(28*28, 10, [64,128])\n",
    "print(complexity_parameters(mlp))\n",
    "\n",
    "cnn = CNN(16, 2, 28, 10)\n",
    "print(complexity_parameters(cnn))\n",
    "\n",
    "cnn_batch = CNN(16, 2, 28, 10, bact_norm=True)\n",
    "print(complexity_parameters(cnn_batch))"
   ]
  },
  {
   "cell_type": "markdown",
   "metadata": {},
   "source": [
    "### Due to its easier calibration, we allow the mlp to have much more parameters than the CNN\n",
    "Let's train them now"
   ]
  },
  {
   "cell_type": "code",
   "execution_count": 10,
   "metadata": {},
   "outputs": [],
   "source": [
    "criterion = nn.NLLLoss()\n",
    "optimizer_mlp = optim.Adam(mlp.parameters(), lr=0.001)\n",
    "optimizer_cnn = optim.Adam(cnn.parameters(), lr=0.001)\n",
    "optimizer_cnn_batch = optim.Adam(cnn_batch.parameters(), lr=0.001)"
   ]
  },
  {
   "cell_type": "markdown",
   "metadata": {},
   "source": [
    "### Let's do the training"
   ]
  },
  {
   "cell_type": "code",
   "execution_count": 11,
   "metadata": {},
   "outputs": [],
   "source": [
    "def training(model, optimizer, criterion, trainloader, testloader, n_epochs, save_path, need_eval=False, print_every=100):\n",
    "    if need_eval:\n",
    "        model.train()\n",
    "        \n",
    "    test_loss_min = np.Inf \n",
    "    list_train_loss, list_test_loss, list_accuracy = [], [], []\n",
    "    \n",
    "    for e in tqdm(range(n_epochs)):\n",
    "        \n",
    "        train_loss = 0\n",
    "        test_loss = 0\n",
    "        accuracy = 0\n",
    "        n_batch = len(trainloader)\n",
    "        for batch_idx, (inputs, labels) in enumerate(trainloader):\n",
    "            \n",
    "            optimizer.zero_grad()\n",
    "            outputs = model(inputs)\n",
    "            loss = criterion(outputs, labels)\n",
    "            loss.backward()\n",
    "            optimizer.step()\n",
    "            \n",
    "            train_loss += 1/(batch_idx+1) * (loss.item() - train_loss)\n",
    "            \n",
    "            if (batch_idx + 1) %print_every == 0 or batch_idx == n_batch-1:\n",
    "                print(\"Current Epoch: {}/{}, Current Progress: {}/{}, Train Loss: {:.6f}\".format(e+1, n_epochs, batch_idx+1, \n",
    "                                                                                               n_batch, train_loss))\n",
    "        ######################    \n",
    "        # validate the model #\n",
    "        ######################\n",
    "        if need_eval:\n",
    "            model.eval()\n",
    "        for inputs, labels in testloader:\n",
    "            with torch.no_grad():\n",
    "                outputs = model(inputs)\n",
    "                \n",
    "                ps = torch.exp(outputs)\n",
    "                _, top_class = ps.topk(1, dim=1)\n",
    "                equals = top_class==labels.view(*top_class.shape)\n",
    "                accuracy += torch.mean(equals.type(torch.FloatTensor))\n",
    "                \n",
    "                loss = criterion(outputs, labels)\n",
    "                test_loss += loss.item()\n",
    "                \n",
    "        test_loss /= len(testloader)\n",
    "        accuracy /= len(testloader)\n",
    "        if need_eval:\n",
    "            model.train()\n",
    "        \n",
    "        print(\"Current Epoch: {}/{}, Test Loss: {:.6f}, Test Accuracy: {:.3f} %\".format(e+1, n_epochs, \n",
    "                                                                                        test_loss, 100*accuracy))\n",
    "        \n",
    "        if test_loss < test_loss_min:\n",
    "            print('Validation loss decreased ({:.6f} --> {:.6f}). Saving model ...'.format(test_loss_min, test_loss))\n",
    "            torch.save(model.state_dict(), save_path)\n",
    "            test_loss_min = test_loss\n",
    "        \n",
    "        \n",
    "        \n",
    "        list_train_loss += [train_loss]\n",
    "        list_test_loss += [test_loss]\n",
    "        list_accuracy += [accuracy]\n",
    "\n",
    "        \n",
    "    return [list_train_loss, list_test_loss, list_accuracy]"
   ]
  },
  {
   "cell_type": "code",
   "execution_count": 12,
   "metadata": {},
   "outputs": [
    {
     "name": "stderr",
     "output_type": "stream",
     "text": [
      "\r",
      "  0%|                                                                                           | 0/20 [00:00<?, ?it/s]"
     ]
    },
    {
     "name": "stdout",
     "output_type": "stream",
     "text": [
      "Current Epoch: 1/20, Current Progress: 300/938, Train Loss: 1.223319\n",
      "Current Epoch: 1/20, Current Progress: 600/938, Train Loss: 0.995227\n",
      "Current Epoch: 1/20, Current Progress: 900/938, Train Loss: 0.888688\n",
      "Current Epoch: 1/20, Current Progress: 938/938, Train Loss: 0.879623\n"
     ]
    },
    {
     "name": "stderr",
     "output_type": "stream",
     "text": [
      "\r",
      "  5%|████▏                                                                              | 1/20 [00:36<11:37, 36.72s/it]"
     ]
    },
    {
     "name": "stdout",
     "output_type": "stream",
     "text": [
      "Current Epoch: 1/20, Test Loss: 0.321123, Test Accuracy: 90.665 %\n",
      "Validation loss decreased (inf --> 0.321123). Saving model ...\n",
      "Current Epoch: 2/20, Current Progress: 300/938, Train Loss: 0.635599\n",
      "Current Epoch: 2/20, Current Progress: 600/938, Train Loss: 0.627039\n",
      "Current Epoch: 2/20, Current Progress: 900/938, Train Loss: 0.613356\n",
      "Current Epoch: 2/20, Current Progress: 938/938, Train Loss: 0.612020\n"
     ]
    },
    {
     "name": "stderr",
     "output_type": "stream",
     "text": [
      "\r",
      " 10%|████████▎                                                                          | 2/20 [01:13<10:59, 36.65s/it]"
     ]
    },
    {
     "name": "stdout",
     "output_type": "stream",
     "text": [
      "Current Epoch: 2/20, Test Loss: 0.285086, Test Accuracy: 91.799 %\n",
      "Validation loss decreased (0.321123 --> 0.285086). Saving model ...\n",
      "Current Epoch: 3/20, Current Progress: 300/938, Train Loss: 0.564417\n",
      "Current Epoch: 3/20, Current Progress: 600/938, Train Loss: 0.562929\n",
      "Current Epoch: 3/20, Current Progress: 900/938, Train Loss: 0.555726\n",
      "Current Epoch: 3/20, Current Progress: 938/938, Train Loss: 0.555671\n"
     ]
    },
    {
     "name": "stderr",
     "output_type": "stream",
     "text": [
      "\r",
      " 15%|████████████▍                                                                      | 3/20 [01:50<10:27, 36.89s/it]"
     ]
    },
    {
     "name": "stdout",
     "output_type": "stream",
     "text": [
      "Current Epoch: 3/20, Test Loss: 0.261885, Test Accuracy: 92.287 %\n",
      "Validation loss decreased (0.285086 --> 0.261885). Saving model ...\n",
      "Current Epoch: 4/20, Current Progress: 300/938, Train Loss: 0.550102\n",
      "Current Epoch: 4/20, Current Progress: 600/938, Train Loss: 0.543551\n",
      "Current Epoch: 4/20, Current Progress: 900/938, Train Loss: 0.538370\n",
      "Current Epoch: 4/20, Current Progress: 938/938, Train Loss: 0.538640\n"
     ]
    },
    {
     "name": "stderr",
     "output_type": "stream",
     "text": [
      "\r",
      " 20%|████████████████▌                                                                  | 4/20 [02:27<09:47, 36.75s/it]"
     ]
    },
    {
     "name": "stdout",
     "output_type": "stream",
     "text": [
      "Current Epoch: 4/20, Test Loss: 0.261495, Test Accuracy: 92.217 %\n",
      "Validation loss decreased (0.261885 --> 0.261495). Saving model ...\n",
      "Current Epoch: 5/20, Current Progress: 300/938, Train Loss: 0.510922\n",
      "Current Epoch: 5/20, Current Progress: 600/938, Train Loss: 0.518740\n",
      "Current Epoch: 5/20, Current Progress: 900/938, Train Loss: 0.515242\n",
      "Current Epoch: 5/20, Current Progress: 938/938, Train Loss: 0.514748\n"
     ]
    },
    {
     "name": "stderr",
     "output_type": "stream",
     "text": [
      "\r",
      " 25%|████████████████████▊                                                              | 5/20 [03:06<09:23, 37.56s/it]"
     ]
    },
    {
     "name": "stdout",
     "output_type": "stream",
     "text": [
      "Current Epoch: 5/20, Test Loss: 0.254107, Test Accuracy: 92.685 %\n",
      "Validation loss decreased (0.261495 --> 0.254107). Saving model ...\n",
      "Current Epoch: 6/20, Current Progress: 300/938, Train Loss: 0.507098\n",
      "Current Epoch: 6/20, Current Progress: 600/938, Train Loss: 0.502654\n",
      "Current Epoch: 6/20, Current Progress: 900/938, Train Loss: 0.503347\n",
      "Current Epoch: 6/20, Current Progress: 938/938, Train Loss: 0.501555\n"
     ]
    },
    {
     "name": "stderr",
     "output_type": "stream",
     "text": [
      "\r",
      " 30%|████████████████████████▉                                                          | 6/20 [03:37<08:16, 35.46s/it]"
     ]
    },
    {
     "name": "stdout",
     "output_type": "stream",
     "text": [
      "Current Epoch: 6/20, Test Loss: 0.229314, Test Accuracy: 93.143 %\n",
      "Validation loss decreased (0.254107 --> 0.229314). Saving model ...\n",
      "Current Epoch: 7/20, Current Progress: 300/938, Train Loss: 0.489477\n",
      "Current Epoch: 7/20, Current Progress: 600/938, Train Loss: 0.484809\n",
      "Current Epoch: 7/20, Current Progress: 900/938, Train Loss: 0.490956\n",
      "Current Epoch: 7/20, Current Progress: 938/938, Train Loss: 0.490408\n"
     ]
    },
    {
     "name": "stderr",
     "output_type": "stream",
     "text": [
      "\r",
      " 35%|█████████████████████████████                                                      | 7/20 [03:54<06:30, 30.01s/it]"
     ]
    },
    {
     "name": "stdout",
     "output_type": "stream",
     "text": [
      "Current Epoch: 7/20, Test Loss: 0.225592, Test Accuracy: 93.213 %\n",
      "Validation loss decreased (0.229314 --> 0.225592). Saving model ...\n",
      "Current Epoch: 8/20, Current Progress: 300/938, Train Loss: 0.494694\n",
      "Current Epoch: 8/20, Current Progress: 600/938, Train Loss: 0.491821\n",
      "Current Epoch: 8/20, Current Progress: 900/938, Train Loss: 0.490755\n",
      "Current Epoch: 8/20, Current Progress: 938/938, Train Loss: 0.490067\n"
     ]
    },
    {
     "name": "stderr",
     "output_type": "stream",
     "text": [
      "\r",
      " 40%|█████████████████████████████████▏                                                 | 8/20 [04:14<05:24, 27.06s/it]"
     ]
    },
    {
     "name": "stdout",
     "output_type": "stream",
     "text": [
      "Current Epoch: 8/20, Test Loss: 0.217903, Test Accuracy: 93.521 %\n",
      "Validation loss decreased (0.225592 --> 0.217903). Saving model ...\n",
      "Current Epoch: 9/20, Current Progress: 300/938, Train Loss: 0.486022\n",
      "Current Epoch: 9/20, Current Progress: 600/938, Train Loss: 0.481967\n",
      "Current Epoch: 9/20, Current Progress: 900/938, Train Loss: 0.477968\n",
      "Current Epoch: 9/20, Current Progress: 938/938, Train Loss: 0.476371\n"
     ]
    },
    {
     "name": "stderr",
     "output_type": "stream",
     "text": [
      "\r",
      " 45%|█████████████████████████████████████▎                                             | 9/20 [04:34<04:35, 25.00s/it]"
     ]
    },
    {
     "name": "stdout",
     "output_type": "stream",
     "text": [
      "Current Epoch: 9/20, Test Loss: 0.220641, Test Accuracy: 93.521 %\n",
      "Current Epoch: 10/20, Current Progress: 300/938, Train Loss: 0.466302\n",
      "Current Epoch: 10/20, Current Progress: 600/938, Train Loss: 0.474151\n",
      "Current Epoch: 10/20, Current Progress: 900/938, Train Loss: 0.471374\n",
      "Current Epoch: 10/20, Current Progress: 938/938, Train Loss: 0.472771\n"
     ]
    },
    {
     "name": "stderr",
     "output_type": "stream",
     "text": [
      "\r",
      " 50%|█████████████████████████████████████████                                         | 10/20 [04:53<03:51, 23.11s/it]"
     ]
    },
    {
     "name": "stdout",
     "output_type": "stream",
     "text": [
      "Current Epoch: 10/20, Test Loss: 0.226804, Test Accuracy: 93.451 %\n",
      "Current Epoch: 11/20, Current Progress: 300/938, Train Loss: 0.471167\n",
      "Current Epoch: 11/20, Current Progress: 600/938, Train Loss: 0.468201\n",
      "Current Epoch: 11/20, Current Progress: 900/938, Train Loss: 0.468076\n",
      "Current Epoch: 11/20, Current Progress: 938/938, Train Loss: 0.469112\n"
     ]
    },
    {
     "name": "stderr",
     "output_type": "stream",
     "text": [
      "\r",
      " 55%|█████████████████████████████████████████████                                     | 11/20 [05:12<03:16, 21.78s/it]"
     ]
    },
    {
     "name": "stdout",
     "output_type": "stream",
     "text": [
      "Current Epoch: 11/20, Test Loss: 0.237247, Test Accuracy: 93.213 %\n",
      "Current Epoch: 12/20, Current Progress: 300/938, Train Loss: 0.454037\n",
      "Current Epoch: 12/20, Current Progress: 600/938, Train Loss: 0.452264\n",
      "Current Epoch: 12/20, Current Progress: 900/938, Train Loss: 0.457909\n",
      "Current Epoch: 12/20, Current Progress: 938/938, Train Loss: 0.458768\n"
     ]
    },
    {
     "name": "stderr",
     "output_type": "stream",
     "text": [
      "\r",
      " 60%|█████████████████████████████████████████████████▏                                | 12/20 [05:30<02:46, 20.81s/it]"
     ]
    },
    {
     "name": "stdout",
     "output_type": "stream",
     "text": [
      "Current Epoch: 12/20, Test Loss: 0.223067, Test Accuracy: 93.292 %\n",
      "Current Epoch: 13/20, Current Progress: 300/938, Train Loss: 0.460683\n",
      "Current Epoch: 13/20, Current Progress: 600/938, Train Loss: 0.462640\n",
      "Current Epoch: 13/20, Current Progress: 900/938, Train Loss: 0.461018\n",
      "Current Epoch: 13/20, Current Progress: 938/938, Train Loss: 0.461275\n"
     ]
    },
    {
     "name": "stderr",
     "output_type": "stream",
     "text": [
      "\r",
      " 65%|█████████████████████████████████████████████████████▎                            | 13/20 [05:49<02:20, 20.10s/it]"
     ]
    },
    {
     "name": "stdout",
     "output_type": "stream",
     "text": [
      "Current Epoch: 13/20, Test Loss: 0.235190, Test Accuracy: 93.521 %\n",
      "Current Epoch: 14/20, Current Progress: 300/938, Train Loss: 0.438994\n",
      "Current Epoch: 14/20, Current Progress: 600/938, Train Loss: 0.447938\n",
      "Current Epoch: 14/20, Current Progress: 900/938, Train Loss: 0.448534\n",
      "Current Epoch: 14/20, Current Progress: 938/938, Train Loss: 0.450307\n"
     ]
    },
    {
     "name": "stderr",
     "output_type": "stream",
     "text": [
      "\r",
      " 70%|█████████████████████████████████████████████████████████▍                        | 14/20 [06:07<01:57, 19.62s/it]"
     ]
    },
    {
     "name": "stdout",
     "output_type": "stream",
     "text": [
      "Current Epoch: 14/20, Test Loss: 0.225687, Test Accuracy: 93.850 %\n",
      "Current Epoch: 15/20, Current Progress: 300/938, Train Loss: 0.463809\n",
      "Current Epoch: 15/20, Current Progress: 600/938, Train Loss: 0.456669\n",
      "Current Epoch: 15/20, Current Progress: 900/938, Train Loss: 0.459273\n",
      "Current Epoch: 15/20, Current Progress: 938/938, Train Loss: 0.459313\n"
     ]
    },
    {
     "name": "stderr",
     "output_type": "stream",
     "text": [
      "\r",
      " 75%|█████████████████████████████████████████████████████████████▌                    | 15/20 [06:26<01:36, 19.32s/it]"
     ]
    },
    {
     "name": "stdout",
     "output_type": "stream",
     "text": [
      "Current Epoch: 15/20, Test Loss: 0.215109, Test Accuracy: 93.740 %\n",
      "Validation loss decreased (0.217903 --> 0.215109). Saving model ...\n",
      "Current Epoch: 16/20, Current Progress: 300/938, Train Loss: 0.454160\n",
      "Current Epoch: 16/20, Current Progress: 600/938, Train Loss: 0.449019\n",
      "Current Epoch: 16/20, Current Progress: 900/938, Train Loss: 0.449804\n",
      "Current Epoch: 16/20, Current Progress: 938/938, Train Loss: 0.449722\n"
     ]
    },
    {
     "name": "stderr",
     "output_type": "stream",
     "text": [
      "\r",
      " 80%|█████████████████████████████████████████████████████████████████▌                | 16/20 [06:44<01:16, 19.06s/it]"
     ]
    },
    {
     "name": "stdout",
     "output_type": "stream",
     "text": [
      "Current Epoch: 16/20, Test Loss: 0.211530, Test Accuracy: 94.088 %\n",
      "Validation loss decreased (0.215109 --> 0.211530). Saving model ...\n",
      "Current Epoch: 17/20, Current Progress: 300/938, Train Loss: 0.446332\n",
      "Current Epoch: 17/20, Current Progress: 600/938, Train Loss: 0.446938\n",
      "Current Epoch: 17/20, Current Progress: 900/938, Train Loss: 0.443060\n",
      "Current Epoch: 17/20, Current Progress: 938/938, Train Loss: 0.444404\n"
     ]
    },
    {
     "name": "stderr",
     "output_type": "stream",
     "text": [
      "\r",
      " 85%|█████████████████████████████████████████████████████████████████████▋            | 17/20 [07:03<00:56, 18.91s/it]"
     ]
    },
    {
     "name": "stdout",
     "output_type": "stream",
     "text": [
      "Current Epoch: 17/20, Test Loss: 0.212322, Test Accuracy: 93.979 %\n",
      "Current Epoch: 18/20, Current Progress: 300/938, Train Loss: 0.445953\n",
      "Current Epoch: 18/20, Current Progress: 600/938, Train Loss: 0.444131\n",
      "Current Epoch: 18/20, Current Progress: 900/938, Train Loss: 0.444403\n",
      "Current Epoch: 18/20, Current Progress: 938/938, Train Loss: 0.443130\n"
     ]
    },
    {
     "name": "stderr",
     "output_type": "stream",
     "text": [
      "\r",
      " 90%|█████████████████████████████████████████████████████████████████████████▊        | 18/20 [07:22<00:37, 18.91s/it]"
     ]
    },
    {
     "name": "stdout",
     "output_type": "stream",
     "text": [
      "Current Epoch: 18/20, Test Loss: 0.208811, Test Accuracy: 93.710 %\n",
      "Validation loss decreased (0.211530 --> 0.208811). Saving model ...\n",
      "Current Epoch: 19/20, Current Progress: 300/938, Train Loss: 0.434231\n",
      "Current Epoch: 19/20, Current Progress: 600/938, Train Loss: 0.436828\n",
      "Current Epoch: 19/20, Current Progress: 900/938, Train Loss: 0.436769\n",
      "Current Epoch: 19/20, Current Progress: 938/938, Train Loss: 0.437860\n"
     ]
    },
    {
     "name": "stderr",
     "output_type": "stream",
     "text": [
      "\r",
      " 95%|█████████████████████████████████████████████████████████████████████████████▉    | 19/20 [07:40<00:18, 18.78s/it]"
     ]
    },
    {
     "name": "stdout",
     "output_type": "stream",
     "text": [
      "Current Epoch: 19/20, Test Loss: 0.218882, Test Accuracy: 93.720 %\n",
      "Current Epoch: 20/20, Current Progress: 300/938, Train Loss: 0.445604\n",
      "Current Epoch: 20/20, Current Progress: 600/938, Train Loss: 0.438165\n",
      "Current Epoch: 20/20, Current Progress: 900/938, Train Loss: 0.437991\n",
      "Current Epoch: 20/20, Current Progress: 938/938, Train Loss: 0.438172\n"
     ]
    },
    {
     "name": "stderr",
     "output_type": "stream",
     "text": [
      "100%|██████████████████████████████████████████████████████████████████████████████████| 20/20 [07:59<00:00, 23.98s/it]\n",
      "  0%|                                                                                           | 0/20 [00:00<?, ?it/s]"
     ]
    },
    {
     "name": "stdout",
     "output_type": "stream",
     "text": [
      "Current Epoch: 20/20, Test Loss: 0.212502, Test Accuracy: 93.840 %\n",
      "Current Epoch: 1/20, Current Progress: 300/938, Train Loss: 1.594008\n",
      "Current Epoch: 1/20, Current Progress: 600/938, Train Loss: 1.370934\n",
      "Current Epoch: 1/20, Current Progress: 900/938, Train Loss: 1.243842\n",
      "Current Epoch: 1/20, Current Progress: 938/938, Train Loss: 1.230872\n"
     ]
    },
    {
     "name": "stderr",
     "output_type": "stream",
     "text": [
      "\r",
      "  5%|████▏                                                                              | 1/20 [00:39<12:21, 39.03s/it]"
     ]
    },
    {
     "name": "stdout",
     "output_type": "stream",
     "text": [
      "Current Epoch: 1/20, Test Loss: 0.903775, Test Accuracy: 62.868 %\n",
      "Validation loss decreased (inf --> 0.903775). Saving model ...\n",
      "Current Epoch: 2/20, Current Progress: 300/938, Train Loss: 0.866200\n",
      "Current Epoch: 2/20, Current Progress: 600/938, Train Loss: 0.835759\n",
      "Current Epoch: 2/20, Current Progress: 900/938, Train Loss: 0.816000\n",
      "Current Epoch: 2/20, Current Progress: 938/938, Train Loss: 0.814348\n"
     ]
    },
    {
     "name": "stderr",
     "output_type": "stream",
     "text": [
      "\r",
      " 10%|████████▎                                                                          | 2/20 [01:20<11:56, 39.79s/it]"
     ]
    },
    {
     "name": "stdout",
     "output_type": "stream",
     "text": [
      "Current Epoch: 2/20, Test Loss: 0.761270, Test Accuracy: 69.964 %\n",
      "Validation loss decreased (0.903775 --> 0.761270). Saving model ...\n",
      "Current Epoch: 3/20, Current Progress: 300/938, Train Loss: 0.748792\n",
      "Current Epoch: 3/20, Current Progress: 600/938, Train Loss: 0.744837\n",
      "Current Epoch: 3/20, Current Progress: 900/938, Train Loss: 0.735780\n",
      "Current Epoch: 3/20, Current Progress: 938/938, Train Loss: 0.734174\n"
     ]
    },
    {
     "name": "stderr",
     "output_type": "stream",
     "text": [
      "\r",
      " 15%|████████████▍                                                                      | 3/20 [01:59<11:12, 39.56s/it]"
     ]
    },
    {
     "name": "stdout",
     "output_type": "stream",
     "text": [
      "Current Epoch: 3/20, Test Loss: 0.702494, Test Accuracy: 71.099 %\n",
      "Validation loss decreased (0.761270 --> 0.702494). Saving model ...\n",
      "Current Epoch: 4/20, Current Progress: 300/938, Train Loss: 0.699223\n",
      "Current Epoch: 4/20, Current Progress: 600/938, Train Loss: 0.694600\n",
      "Current Epoch: 4/20, Current Progress: 900/938, Train Loss: 0.695392\n",
      "Current Epoch: 4/20, Current Progress: 938/938, Train Loss: 0.695314\n"
     ]
    },
    {
     "name": "stderr",
     "output_type": "stream",
     "text": [
      "\r",
      " 20%|████████████████▌                                                                  | 4/20 [02:38<10:29, 39.33s/it]"
     ]
    },
    {
     "name": "stdout",
     "output_type": "stream",
     "text": [
      "Current Epoch: 4/20, Test Loss: 0.682005, Test Accuracy: 73.418 %\n",
      "Validation loss decreased (0.702494 --> 0.682005). Saving model ...\n",
      "Current Epoch: 5/20, Current Progress: 300/938, Train Loss: 0.670923\n",
      "Current Epoch: 5/20, Current Progress: 600/938, Train Loss: 0.671847\n",
      "Current Epoch: 5/20, Current Progress: 900/938, Train Loss: 0.673140\n",
      "Current Epoch: 5/20, Current Progress: 938/938, Train Loss: 0.673471\n"
     ]
    },
    {
     "name": "stderr",
     "output_type": "stream",
     "text": [
      "\r",
      " 25%|████████████████████▊                                                              | 5/20 [03:16<09:44, 38.99s/it]"
     ]
    },
    {
     "name": "stdout",
     "output_type": "stream",
     "text": [
      "Current Epoch: 5/20, Test Loss: 0.681348, Test Accuracy: 74.313 %\n",
      "Validation loss decreased (0.682005 --> 0.681348). Saving model ...\n",
      "Current Epoch: 6/20, Current Progress: 300/938, Train Loss: 0.679813\n",
      "Current Epoch: 6/20, Current Progress: 600/938, Train Loss: 0.673519\n",
      "Current Epoch: 6/20, Current Progress: 900/938, Train Loss: 0.666030\n",
      "Current Epoch: 6/20, Current Progress: 938/938, Train Loss: 0.664816\n"
     ]
    },
    {
     "name": "stderr",
     "output_type": "stream",
     "text": [
      "\r",
      " 30%|████████████████████████▉                                                          | 6/20 [03:54<09:02, 38.78s/it]"
     ]
    },
    {
     "name": "stdout",
     "output_type": "stream",
     "text": [
      "Current Epoch: 6/20, Test Loss: 0.668935, Test Accuracy: 75.498 %\n",
      "Validation loss decreased (0.681348 --> 0.668935). Saving model ...\n",
      "Current Epoch: 7/20, Current Progress: 300/938, Train Loss: 0.644145\n",
      "Current Epoch: 7/20, Current Progress: 600/938, Train Loss: 0.646058\n",
      "Current Epoch: 7/20, Current Progress: 900/938, Train Loss: 0.623490\n",
      "Current Epoch: 7/20, Current Progress: 938/938, Train Loss: 0.620248\n"
     ]
    },
    {
     "name": "stderr",
     "output_type": "stream",
     "text": [
      "\r",
      " 35%|█████████████████████████████                                                      | 7/20 [04:32<08:21, 38.56s/it]"
     ]
    },
    {
     "name": "stdout",
     "output_type": "stream",
     "text": [
      "Current Epoch: 7/20, Test Loss: 0.568181, Test Accuracy: 79.240 %\n",
      "Validation loss decreased (0.668935 --> 0.568181). Saving model ...\n",
      "Current Epoch: 8/20, Current Progress: 300/938, Train Loss: 0.477606\n",
      "Current Epoch: 8/20, Current Progress: 600/938, Train Loss: 0.455464\n",
      "Current Epoch: 8/20, Current Progress: 900/938, Train Loss: 0.441584\n",
      "Current Epoch: 8/20, Current Progress: 938/938, Train Loss: 0.439354\n"
     ]
    },
    {
     "name": "stderr",
     "output_type": "stream",
     "text": [
      "\r",
      " 40%|█████████████████████████████████▏                                                 | 8/20 [05:11<07:41, 38.45s/it]"
     ]
    },
    {
     "name": "stdout",
     "output_type": "stream",
     "text": [
      "Current Epoch: 8/20, Test Loss: 0.414218, Test Accuracy: 85.997 %\n",
      "Validation loss decreased (0.568181 --> 0.414218). Saving model ...\n",
      "Current Epoch: 9/20, Current Progress: 300/938, Train Loss: 0.398030\n",
      "Current Epoch: 9/20, Current Progress: 600/938, Train Loss: 0.392045\n",
      "Current Epoch: 9/20, Current Progress: 900/938, Train Loss: 0.391983\n",
      "Current Epoch: 9/20, Current Progress: 938/938, Train Loss: 0.392667\n"
     ]
    },
    {
     "name": "stderr",
     "output_type": "stream",
     "text": [
      "\r",
      " 45%|█████████████████████████████████████▎                                             | 9/20 [05:50<07:04, 38.61s/it]"
     ]
    },
    {
     "name": "stdout",
     "output_type": "stream",
     "text": [
      "Current Epoch: 9/20, Test Loss: 0.409816, Test Accuracy: 86.077 %\n",
      "Validation loss decreased (0.414218 --> 0.409816). Saving model ...\n",
      "Current Epoch: 10/20, Current Progress: 300/938, Train Loss: 0.374633\n",
      "Current Epoch: 10/20, Current Progress: 600/938, Train Loss: 0.380728\n",
      "Current Epoch: 10/20, Current Progress: 900/938, Train Loss: 0.381755\n",
      "Current Epoch: 10/20, Current Progress: 938/938, Train Loss: 0.381814\n"
     ]
    },
    {
     "name": "stderr",
     "output_type": "stream",
     "text": [
      "\r",
      " 50%|█████████████████████████████████████████                                         | 10/20 [06:29<06:28, 38.88s/it]"
     ]
    },
    {
     "name": "stdout",
     "output_type": "stream",
     "text": [
      "Current Epoch: 10/20, Test Loss: 0.378176, Test Accuracy: 87.182 %\n",
      "Validation loss decreased (0.409816 --> 0.378176). Saving model ...\n",
      "Current Epoch: 11/20, Current Progress: 300/938, Train Loss: 0.364650\n",
      "Current Epoch: 11/20, Current Progress: 600/938, Train Loss: 0.360370\n",
      "Current Epoch: 11/20, Current Progress: 900/938, Train Loss: 0.358492\n",
      "Current Epoch: 11/20, Current Progress: 938/938, Train Loss: 0.358881\n"
     ]
    },
    {
     "name": "stderr",
     "output_type": "stream",
     "text": [
      "\r",
      " 55%|█████████████████████████████████████████████                                     | 11/20 [07:07<05:47, 38.62s/it]"
     ]
    },
    {
     "name": "stdout",
     "output_type": "stream",
     "text": [
      "Current Epoch: 11/20, Test Loss: 0.374477, Test Accuracy: 86.982 %\n",
      "Validation loss decreased (0.378176 --> 0.374477). Saving model ...\n",
      "Current Epoch: 12/20, Current Progress: 300/938, Train Loss: 0.343059\n",
      "Current Epoch: 12/20, Current Progress: 600/938, Train Loss: 0.339537\n",
      "Current Epoch: 12/20, Current Progress: 900/938, Train Loss: 0.336595\n",
      "Current Epoch: 12/20, Current Progress: 938/938, Train Loss: 0.336553\n"
     ]
    },
    {
     "name": "stderr",
     "output_type": "stream",
     "text": [
      "\r",
      " 60%|█████████████████████████████████████████████████▏                                | 12/20 [07:46<05:09, 38.67s/it]"
     ]
    },
    {
     "name": "stdout",
     "output_type": "stream",
     "text": [
      "Current Epoch: 12/20, Test Loss: 0.357576, Test Accuracy: 87.719 %\n",
      "Validation loss decreased (0.374477 --> 0.357576). Saving model ...\n",
      "Current Epoch: 13/20, Current Progress: 300/938, Train Loss: 0.331698\n",
      "Current Epoch: 13/20, Current Progress: 600/938, Train Loss: 0.329975\n",
      "Current Epoch: 13/20, Current Progress: 900/938, Train Loss: 0.326989\n",
      "Current Epoch: 13/20, Current Progress: 938/938, Train Loss: 0.326970\n"
     ]
    },
    {
     "name": "stderr",
     "output_type": "stream",
     "text": [
      "\r",
      " 65%|█████████████████████████████████████████████████████▎                            | 13/20 [08:24<04:30, 38.60s/it]"
     ]
    },
    {
     "name": "stdout",
     "output_type": "stream",
     "text": [
      "Current Epoch: 13/20, Test Loss: 0.343610, Test Accuracy: 88.396 %\n",
      "Validation loss decreased (0.357576 --> 0.343610). Saving model ...\n",
      "Current Epoch: 14/20, Current Progress: 300/938, Train Loss: 0.319458\n",
      "Current Epoch: 14/20, Current Progress: 600/938, Train Loss: 0.316198\n",
      "Current Epoch: 14/20, Current Progress: 900/938, Train Loss: 0.311006\n",
      "Current Epoch: 14/20, Current Progress: 938/938, Train Loss: 0.311082\n"
     ]
    },
    {
     "name": "stderr",
     "output_type": "stream",
     "text": [
      "\r",
      " 70%|█████████████████████████████████████████████████████████▍                        | 14/20 [09:03<03:51, 38.58s/it]"
     ]
    },
    {
     "name": "stdout",
     "output_type": "stream",
     "text": [
      "Current Epoch: 14/20, Test Loss: 0.333116, Test Accuracy: 88.455 %\n",
      "Validation loss decreased (0.343610 --> 0.333116). Saving model ...\n",
      "Current Epoch: 15/20, Current Progress: 300/938, Train Loss: 0.306402\n",
      "Current Epoch: 15/20, Current Progress: 600/938, Train Loss: 0.309732\n",
      "Current Epoch: 15/20, Current Progress: 900/938, Train Loss: 0.309757\n",
      "Current Epoch: 15/20, Current Progress: 938/938, Train Loss: 0.309116\n"
     ]
    },
    {
     "name": "stderr",
     "output_type": "stream",
     "text": [
      "\r",
      " 75%|█████████████████████████████████████████████████████████████▌                    | 15/20 [09:42<03:13, 38.65s/it]"
     ]
    },
    {
     "name": "stdout",
     "output_type": "stream",
     "text": [
      "Current Epoch: 15/20, Test Loss: 0.317613, Test Accuracy: 89.102 %\n",
      "Validation loss decreased (0.333116 --> 0.317613). Saving model ...\n",
      "Current Epoch: 16/20, Current Progress: 300/938, Train Loss: 0.307509\n",
      "Current Epoch: 16/20, Current Progress: 600/938, Train Loss: 0.300396\n",
      "Current Epoch: 16/20, Current Progress: 900/938, Train Loss: 0.299783\n",
      "Current Epoch: 16/20, Current Progress: 938/938, Train Loss: 0.300046\n"
     ]
    },
    {
     "name": "stderr",
     "output_type": "stream",
     "text": [
      "\r",
      " 80%|█████████████████████████████████████████████████████████████████▌                | 16/20 [10:21<02:34, 38.70s/it]"
     ]
    },
    {
     "name": "stdout",
     "output_type": "stream",
     "text": [
      "Current Epoch: 16/20, Test Loss: 0.331659, Test Accuracy: 89.003 %\n",
      "Current Epoch: 17/20, Current Progress: 300/938, Train Loss: 0.296776\n",
      "Current Epoch: 17/20, Current Progress: 600/938, Train Loss: 0.297385\n",
      "Current Epoch: 17/20, Current Progress: 900/938, Train Loss: 0.297380\n",
      "Current Epoch: 17/20, Current Progress: 938/938, Train Loss: 0.297337\n"
     ]
    },
    {
     "name": "stderr",
     "output_type": "stream",
     "text": [
      "\r",
      " 85%|█████████████████████████████████████████████████████████████████████▋            | 17/20 [10:59<01:55, 38.49s/it]"
     ]
    },
    {
     "name": "stdout",
     "output_type": "stream",
     "text": [
      "Current Epoch: 17/20, Test Loss: 0.335682, Test Accuracy: 88.744 %\n",
      "Current Epoch: 18/20, Current Progress: 300/938, Train Loss: 0.283604\n",
      "Current Epoch: 18/20, Current Progress: 600/938, Train Loss: 0.288680\n",
      "Current Epoch: 18/20, Current Progress: 900/938, Train Loss: 0.290266\n",
      "Current Epoch: 18/20, Current Progress: 938/938, Train Loss: 0.291483\n"
     ]
    },
    {
     "name": "stderr",
     "output_type": "stream",
     "text": [
      "\r",
      " 90%|█████████████████████████████████████████████████████████████████████████▊        | 18/20 [11:37<01:16, 38.42s/it]"
     ]
    },
    {
     "name": "stdout",
     "output_type": "stream",
     "text": [
      "Current Epoch: 18/20, Test Loss: 0.323115, Test Accuracy: 88.983 %\n",
      "Current Epoch: 19/20, Current Progress: 300/938, Train Loss: 0.292830\n",
      "Current Epoch: 19/20, Current Progress: 600/938, Train Loss: 0.293916\n",
      "Current Epoch: 19/20, Current Progress: 900/938, Train Loss: 0.293512\n",
      "Current Epoch: 19/20, Current Progress: 938/938, Train Loss: 0.293753\n"
     ]
    },
    {
     "name": "stderr",
     "output_type": "stream",
     "text": [
      "\r",
      " 95%|█████████████████████████████████████████████████████████████████████████████▉    | 19/20 [12:15<00:38, 38.29s/it]"
     ]
    },
    {
     "name": "stdout",
     "output_type": "stream",
     "text": [
      "Current Epoch: 19/20, Test Loss: 0.320671, Test Accuracy: 89.431 %\n",
      "Current Epoch: 20/20, Current Progress: 300/938, Train Loss: 0.281098\n",
      "Current Epoch: 20/20, Current Progress: 600/938, Train Loss: 0.288718\n",
      "Current Epoch: 20/20, Current Progress: 900/938, Train Loss: 0.289144\n",
      "Current Epoch: 20/20, Current Progress: 938/938, Train Loss: 0.289411\n"
     ]
    },
    {
     "name": "stderr",
     "output_type": "stream",
     "text": [
      "100%|██████████████████████████████████████████████████████████████████████████████████| 20/20 [12:53<00:00, 38.67s/it]\n",
      "  0%|                                                                                           | 0/20 [00:00<?, ?it/s]"
     ]
    },
    {
     "name": "stdout",
     "output_type": "stream",
     "text": [
      "Current Epoch: 20/20, Test Loss: 0.324798, Test Accuracy: 88.863 %\n",
      "Current Epoch: 1/20, Current Progress: 300/938, Train Loss: 1.101365\n",
      "Current Epoch: 1/20, Current Progress: 600/938, Train Loss: 0.883742\n",
      "Current Epoch: 1/20, Current Progress: 900/938, Train Loss: 0.781487\n",
      "Current Epoch: 1/20, Current Progress: 938/938, Train Loss: 0.773740\n"
     ]
    },
    {
     "name": "stderr",
     "output_type": "stream",
     "text": [
      "\r",
      "  5%|████▏                                                                              | 1/20 [00:33<10:45, 33.98s/it]"
     ]
    },
    {
     "name": "stdout",
     "output_type": "stream",
     "text": [
      "Current Epoch: 1/20, Test Loss: 0.129650, Test Accuracy: 96.716 %\n",
      "Validation loss decreased (inf --> 0.129650). Saving model ...\n",
      "Current Epoch: 2/20, Current Progress: 300/938, Train Loss: 0.527391\n",
      "Current Epoch: 2/20, Current Progress: 600/938, Train Loss: 0.523238\n",
      "Current Epoch: 2/20, Current Progress: 900/938, Train Loss: 0.513554\n",
      "Current Epoch: 2/20, Current Progress: 938/938, Train Loss: 0.512577\n"
     ]
    },
    {
     "name": "stderr",
     "output_type": "stream",
     "text": [
      "\r",
      " 10%|████████▎                                                                          | 2/20 [01:08<10:13, 34.10s/it]"
     ]
    },
    {
     "name": "stdout",
     "output_type": "stream",
     "text": [
      "Current Epoch: 2/20, Test Loss: 0.094570, Test Accuracy: 97.193 %\n",
      "Validation loss decreased (0.129650 --> 0.094570). Saving model ...\n",
      "Current Epoch: 3/20, Current Progress: 300/938, Train Loss: 0.478935\n",
      "Current Epoch: 3/20, Current Progress: 600/938, Train Loss: 0.472378\n",
      "Current Epoch: 3/20, Current Progress: 900/938, Train Loss: 0.464416\n",
      "Current Epoch: 3/20, Current Progress: 938/938, Train Loss: 0.463145\n"
     ]
    },
    {
     "name": "stderr",
     "output_type": "stream",
     "text": [
      "\r",
      " 15%|████████████▍                                                                      | 3/20 [01:42<09:41, 34.22s/it]"
     ]
    },
    {
     "name": "stdout",
     "output_type": "stream",
     "text": [
      "Current Epoch: 3/20, Test Loss: 0.075491, Test Accuracy: 97.880 %\n",
      "Validation loss decreased (0.094570 --> 0.075491). Saving model ...\n",
      "Current Epoch: 4/20, Current Progress: 300/938, Train Loss: 0.446260\n",
      "Current Epoch: 4/20, Current Progress: 600/938, Train Loss: 0.438527\n",
      "Current Epoch: 4/20, Current Progress: 900/938, Train Loss: 0.433499\n",
      "Current Epoch: 4/20, Current Progress: 938/938, Train Loss: 0.433290\n"
     ]
    },
    {
     "name": "stderr",
     "output_type": "stream",
     "text": [
      "\r",
      " 20%|████████████████▌                                                                  | 4/20 [02:17<09:08, 34.30s/it]"
     ]
    },
    {
     "name": "stdout",
     "output_type": "stream",
     "text": [
      "Current Epoch: 4/20, Test Loss: 0.070026, Test Accuracy: 98.069 %\n",
      "Validation loss decreased (0.075491 --> 0.070026). Saving model ...\n",
      "Current Epoch: 5/20, Current Progress: 300/938, Train Loss: 0.403116\n",
      "Current Epoch: 5/20, Current Progress: 600/938, Train Loss: 0.406728\n",
      "Current Epoch: 5/20, Current Progress: 900/938, Train Loss: 0.401640\n",
      "Current Epoch: 5/20, Current Progress: 938/938, Train Loss: 0.400404\n"
     ]
    },
    {
     "name": "stderr",
     "output_type": "stream",
     "text": [
      "\r",
      " 25%|████████████████████▊                                                              | 5/20 [02:51<08:34, 34.30s/it]"
     ]
    },
    {
     "name": "stdout",
     "output_type": "stream",
     "text": [
      "Current Epoch: 5/20, Test Loss: 0.064815, Test Accuracy: 98.089 %\n",
      "Validation loss decreased (0.070026 --> 0.064815). Saving model ...\n",
      "Current Epoch: 6/20, Current Progress: 300/938, Train Loss: 0.359217\n",
      "Current Epoch: 6/20, Current Progress: 600/938, Train Loss: 0.351776\n",
      "Current Epoch: 6/20, Current Progress: 900/938, Train Loss: 0.354666\n",
      "Current Epoch: 6/20, Current Progress: 938/938, Train Loss: 0.355413\n"
     ]
    },
    {
     "name": "stderr",
     "output_type": "stream",
     "text": [
      "\r",
      " 30%|████████████████████████▉                                                          | 6/20 [03:25<07:59, 34.24s/it]"
     ]
    },
    {
     "name": "stdout",
     "output_type": "stream",
     "text": [
      "Current Epoch: 6/20, Test Loss: 0.058072, Test Accuracy: 98.278 %\n",
      "Validation loss decreased (0.064815 --> 0.058072). Saving model ...\n",
      "Current Epoch: 7/20, Current Progress: 300/938, Train Loss: 0.347250\n",
      "Current Epoch: 7/20, Current Progress: 600/938, Train Loss: 0.348804\n",
      "Current Epoch: 7/20, Current Progress: 900/938, Train Loss: 0.348408\n",
      "Current Epoch: 7/20, Current Progress: 938/938, Train Loss: 0.349159\n"
     ]
    },
    {
     "name": "stderr",
     "output_type": "stream",
     "text": [
      "\r",
      " 35%|█████████████████████████████                                                      | 7/20 [03:59<07:24, 34.18s/it]"
     ]
    },
    {
     "name": "stdout",
     "output_type": "stream",
     "text": [
      "Current Epoch: 7/20, Test Loss: 0.055569, Test Accuracy: 98.348 %\n",
      "Validation loss decreased (0.058072 --> 0.055569). Saving model ...\n",
      "Current Epoch: 8/20, Current Progress: 300/938, Train Loss: 0.339182\n",
      "Current Epoch: 8/20, Current Progress: 600/938, Train Loss: 0.338394\n",
      "Current Epoch: 8/20, Current Progress: 900/938, Train Loss: 0.340481\n",
      "Current Epoch: 8/20, Current Progress: 938/938, Train Loss: 0.340145\n"
     ]
    },
    {
     "name": "stderr",
     "output_type": "stream",
     "text": [
      "\r",
      " 40%|█████████████████████████████████▏                                                 | 8/20 [04:34<06:50, 34.21s/it]"
     ]
    },
    {
     "name": "stdout",
     "output_type": "stream",
     "text": [
      "Current Epoch: 8/20, Test Loss: 0.058197, Test Accuracy: 98.238 %\n",
      "Current Epoch: 9/20, Current Progress: 300/938, Train Loss: 0.339197\n",
      "Current Epoch: 9/20, Current Progress: 600/938, Train Loss: 0.336518\n",
      "Current Epoch: 9/20, Current Progress: 900/938, Train Loss: 0.333429\n",
      "Current Epoch: 9/20, Current Progress: 938/938, Train Loss: 0.333274\n"
     ]
    },
    {
     "name": "stderr",
     "output_type": "stream",
     "text": [
      "\r",
      " 45%|█████████████████████████████████████▎                                             | 9/20 [05:08<06:16, 34.19s/it]"
     ]
    },
    {
     "name": "stdout",
     "output_type": "stream",
     "text": [
      "Current Epoch: 9/20, Test Loss: 0.057449, Test Accuracy: 98.298 %\n",
      "Current Epoch: 10/20, Current Progress: 300/938, Train Loss: 0.326255\n",
      "Current Epoch: 10/20, Current Progress: 600/938, Train Loss: 0.330694\n",
      "Current Epoch: 10/20, Current Progress: 900/938, Train Loss: 0.325159\n",
      "Current Epoch: 10/20, Current Progress: 938/938, Train Loss: 0.325469\n"
     ]
    },
    {
     "name": "stderr",
     "output_type": "stream",
     "text": [
      "\r",
      " 50%|█████████████████████████████████████████                                         | 10/20 [05:42<05:41, 34.15s/it]"
     ]
    },
    {
     "name": "stdout",
     "output_type": "stream",
     "text": [
      "Current Epoch: 10/20, Test Loss: 0.056373, Test Accuracy: 98.268 %\n",
      "Current Epoch: 11/20, Current Progress: 300/938, Train Loss: 0.307933\n",
      "Current Epoch: 11/20, Current Progress: 600/938, Train Loss: 0.310632\n",
      "Current Epoch: 11/20, Current Progress: 900/938, Train Loss: 0.313630\n",
      "Current Epoch: 11/20, Current Progress: 938/938, Train Loss: 0.313871\n"
     ]
    },
    {
     "name": "stderr",
     "output_type": "stream",
     "text": [
      "\r",
      " 55%|█████████████████████████████████████████████                                     | 11/20 [06:16<05:06, 34.05s/it]"
     ]
    },
    {
     "name": "stdout",
     "output_type": "stream",
     "text": [
      "Current Epoch: 11/20, Test Loss: 0.058718, Test Accuracy: 98.428 %\n",
      "Current Epoch: 12/20, Current Progress: 300/938, Train Loss: 0.296438\n",
      "Current Epoch: 12/20, Current Progress: 600/938, Train Loss: 0.305756\n",
      "Current Epoch: 12/20, Current Progress: 900/938, Train Loss: 0.308402\n",
      "Current Epoch: 12/20, Current Progress: 938/938, Train Loss: 0.308206\n"
     ]
    },
    {
     "name": "stderr",
     "output_type": "stream",
     "text": [
      "\r",
      " 60%|█████████████████████████████████████████████████▏                                | 12/20 [06:50<04:32, 34.05s/it]"
     ]
    },
    {
     "name": "stdout",
     "output_type": "stream",
     "text": [
      "Current Epoch: 12/20, Test Loss: 0.055753, Test Accuracy: 98.497 %\n",
      "Current Epoch: 13/20, Current Progress: 300/938, Train Loss: 0.310728\n",
      "Current Epoch: 13/20, Current Progress: 600/938, Train Loss: 0.307527\n",
      "Current Epoch: 13/20, Current Progress: 900/938, Train Loss: 0.304780\n",
      "Current Epoch: 13/20, Current Progress: 938/938, Train Loss: 0.304466\n"
     ]
    },
    {
     "name": "stderr",
     "output_type": "stream",
     "text": [
      "\r",
      " 65%|█████████████████████████████████████████████████████▎                            | 13/20 [07:24<03:58, 34.04s/it]"
     ]
    },
    {
     "name": "stdout",
     "output_type": "stream",
     "text": [
      "Current Epoch: 13/20, Test Loss: 0.055906, Test Accuracy: 98.428 %\n",
      "Current Epoch: 14/20, Current Progress: 300/938, Train Loss: 0.305881\n",
      "Current Epoch: 14/20, Current Progress: 600/938, Train Loss: 0.306771\n",
      "Current Epoch: 14/20, Current Progress: 900/938, Train Loss: 0.310871\n",
      "Current Epoch: 14/20, Current Progress: 938/938, Train Loss: 0.310895\n"
     ]
    },
    {
     "name": "stderr",
     "output_type": "stream",
     "text": [
      "\r",
      " 70%|█████████████████████████████████████████████████████████▍                        | 14/20 [07:58<03:24, 34.06s/it]"
     ]
    },
    {
     "name": "stdout",
     "output_type": "stream",
     "text": [
      "Current Epoch: 14/20, Test Loss: 0.056947, Test Accuracy: 98.537 %\n",
      "Current Epoch: 15/20, Current Progress: 300/938, Train Loss: 0.291828\n",
      "Current Epoch: 15/20, Current Progress: 600/938, Train Loss: 0.300552\n",
      "Current Epoch: 15/20, Current Progress: 900/938, Train Loss: 0.299225\n",
      "Current Epoch: 15/20, Current Progress: 938/938, Train Loss: 0.299733\n"
     ]
    },
    {
     "name": "stderr",
     "output_type": "stream",
     "text": [
      "\r",
      " 75%|█████████████████████████████████████████████████████████████▌                    | 15/20 [08:32<02:50, 34.03s/it]"
     ]
    },
    {
     "name": "stdout",
     "output_type": "stream",
     "text": [
      "Current Epoch: 15/20, Test Loss: 0.058408, Test Accuracy: 98.338 %\n",
      "Current Epoch: 16/20, Current Progress: 300/938, Train Loss: 0.295913\n",
      "Current Epoch: 16/20, Current Progress: 600/938, Train Loss: 0.297358\n",
      "Current Epoch: 16/20, Current Progress: 900/938, Train Loss: 0.299699\n",
      "Current Epoch: 16/20, Current Progress: 938/938, Train Loss: 0.299242\n"
     ]
    },
    {
     "name": "stderr",
     "output_type": "stream",
     "text": [
      "\r",
      " 80%|█████████████████████████████████████████████████████████████████▌                | 16/20 [09:06<02:17, 34.25s/it]"
     ]
    },
    {
     "name": "stdout",
     "output_type": "stream",
     "text": [
      "Current Epoch: 16/20, Test Loss: 0.056655, Test Accuracy: 98.428 %\n",
      "Current Epoch: 17/20, Current Progress: 300/938, Train Loss: 0.291540\n",
      "Current Epoch: 17/20, Current Progress: 600/938, Train Loss: 0.290055\n",
      "Current Epoch: 17/20, Current Progress: 900/938, Train Loss: 0.292121\n",
      "Current Epoch: 17/20, Current Progress: 938/938, Train Loss: 0.293223\n"
     ]
    },
    {
     "name": "stderr",
     "output_type": "stream",
     "text": [
      "\r",
      " 85%|█████████████████████████████████████████████████████████████████████▋            | 17/20 [09:40<01:42, 34.13s/it]"
     ]
    },
    {
     "name": "stdout",
     "output_type": "stream",
     "text": [
      "Current Epoch: 17/20, Test Loss: 0.062220, Test Accuracy: 98.229 %\n",
      "Current Epoch: 18/20, Current Progress: 300/938, Train Loss: 0.281787\n",
      "Current Epoch: 18/20, Current Progress: 600/938, Train Loss: 0.287340\n",
      "Current Epoch: 18/20, Current Progress: 900/938, Train Loss: 0.288076\n",
      "Current Epoch: 18/20, Current Progress: 938/938, Train Loss: 0.287649\n"
     ]
    },
    {
     "name": "stderr",
     "output_type": "stream",
     "text": [
      "\r",
      " 90%|█████████████████████████████████████████████████████████████████████████▊        | 18/20 [10:14<01:08, 34.03s/it]"
     ]
    },
    {
     "name": "stdout",
     "output_type": "stream",
     "text": [
      "Current Epoch: 18/20, Test Loss: 0.058600, Test Accuracy: 98.408 %\n",
      "Current Epoch: 19/20, Current Progress: 300/938, Train Loss: 0.291453\n",
      "Current Epoch: 19/20, Current Progress: 600/938, Train Loss: 0.290715\n",
      "Current Epoch: 19/20, Current Progress: 900/938, Train Loss: 0.290222\n",
      "Current Epoch: 19/20, Current Progress: 938/938, Train Loss: 0.290505\n"
     ]
    },
    {
     "name": "stderr",
     "output_type": "stream",
     "text": [
      "\r",
      " 95%|█████████████████████████████████████████████████████████████████████████████▉    | 19/20 [10:48<00:33, 33.88s/it]"
     ]
    },
    {
     "name": "stdout",
     "output_type": "stream",
     "text": [
      "Current Epoch: 19/20, Test Loss: 0.052863, Test Accuracy: 98.487 %\n",
      "Validation loss decreased (0.055569 --> 0.052863). Saving model ...\n",
      "Current Epoch: 20/20, Current Progress: 300/938, Train Loss: 0.277764\n",
      "Current Epoch: 20/20, Current Progress: 600/938, Train Loss: 0.282249\n",
      "Current Epoch: 20/20, Current Progress: 900/938, Train Loss: 0.282328\n",
      "Current Epoch: 20/20, Current Progress: 938/938, Train Loss: 0.283265\n"
     ]
    },
    {
     "name": "stderr",
     "output_type": "stream",
     "text": [
      "100%|██████████████████████████████████████████████████████████████████████████████████| 20/20 [11:23<00:00, 34.18s/it]"
     ]
    },
    {
     "name": "stdout",
     "output_type": "stream",
     "text": [
      "Current Epoch: 20/20, Test Loss: 0.052177, Test Accuracy: 98.597 %\n",
      "Validation loss decreased (0.052863 --> 0.052177). Saving model ...\n"
     ]
    },
    {
     "name": "stderr",
     "output_type": "stream",
     "text": [
      "\n"
     ]
    }
   ],
   "source": [
    "mlp_metrics = training(mlp, optimizer_mlp, criterion, trainloader, testloader, n_epochs=n_epochs, \n",
    "                                         save_path=\"trained_models\\mlp.pt\",need_eval=True, print_every=print_every)\n",
    "cnn_metrics = training(cnn, optimizer_cnn, criterion, trainloader, testloader, n_epochs=n_epochs, \n",
    "                                         save_path=\"trained_models\\cnn.pt\",need_eval=False, print_every=print_every)\n",
    "cnn_batch_metrics = training(cnn_batch, optimizer_cnn_batch, criterion, trainloader, testloader, n_epochs=n_epochs, \n",
    "                                         save_path=\"trained_models\\cnn_batch.pt\",need_eval=True, print_every=print_every)\n"
   ]
  },
  {
   "cell_type": "code",
   "execution_count": 13,
   "metadata": {},
   "outputs": [],
   "source": [
    "def plot_metrics(ax, metrics, title, n_epochs):\n",
    "    ax.plot(np.arange(1, n_epochs+1), metrics[0],\"--g\", label='Train Loss')\n",
    "    ax.plot(np.arange(1, n_epochs+1), metrics[1], \"-b\", label='Test Loss')\n",
    "    plt.title(title)\n",
    "    plt.xlabel(\"n epochs\")\n",
    "    plt.ylabel(\"Loss\")\n",
    "    plt.legend()\n",
    "    plt.ylim(0,1)"
   ]
  },
  {
   "cell_type": "code",
   "execution_count": 14,
   "metadata": {},
   "outputs": [],
   "source": [
    "def plot_accuracy(ax, metrics, titles, n_epochs):\n",
    "\n",
    "    for i in range(len(metrics)):\n",
    "        ax.plot(np.arange(1, n_epochs+1), metrics[i][2], label=titles[i])\n",
    "        \n",
    "    plt.title(\"Accuracy\")\n",
    "    plt.xlabel(\"n epochs\")\n",
    "    plt.ylabel(\"Accuracy\")\n",
    "    plt.legend()\n",
    "    plt.ylim(0,1)"
   ]
  },
  {
   "cell_type": "code",
   "execution_count": 15,
   "metadata": {},
   "outputs": [
    {
     "data": {
      "image/png": "[encoded data removed]",
      "text/plain": [
       "<matplotlib.figure.Figure at 0x299a503a278>"
      ]
     },
     "metadata": {
      "needs_background": "light"
     },
     "output_type": "display_data"
    }
   ],
   "source": [
    "fig = plt.figure(figsize=(20,4))\n",
    "ax = fig.add_subplot(1, 3, 1)\n",
    "plot_metrics(ax, mlp_metrics, \"MLP performance\", n_epochs)\n",
    "ax = fig.add_subplot(1, 3, 2)\n",
    "plot_metrics(ax, cnn_metrics, \"CNN performance\", n_epochs)\n",
    "ax = fig.add_subplot(1, 3, 3)\n",
    "plot_metrics(ax, cnn_batch_metrics, \"CNN with batch performance\", n_epochs)"
   ]
  },
  {
   "cell_type": "code",
   "execution_count": 16,
   "metadata": {},
   "outputs": [
    {
     "data": {
      "image/png": "[encoded data removed]",
      "text/plain": [
       "<matplotlib.figure.Figure at 0x299a51d1588>"
      ]
     },
     "metadata": {
      "needs_background": "light"
     },
     "output_type": "display_data"
    }
   ],
   "source": [
    "fig = plt.figure()\n",
    "ax = plt.axes()\n",
    "plot_accuracy(ax, [mlp_metrics, cnn_metrics, cnn_batch_metrics], [\"MLP\", \"CNN\", \"CNN with Batch\"], n_epochs)"
   ]
  },
  {
   "cell_type": "markdown",
   "metadata": {},
   "source": [
    "### Images probably not complex and big enough for simple CNN to outperform MLP\n",
    "### Batch_norm makes a massive difference"
   ]
  },
  {
   "cell_type": "code",
   "execution_count": 73,
   "metadata": {},
   "outputs": [
    {
     "data": {
      "image/png": "[encoded data removed]",
      "text/plain": [
       "<matplotlib.figure.Figure at 0x299a91d0978>"
      ]
     },
     "metadata": {},
     "output_type": "display_data"
    }
   ],
   "source": [
    "mlp.load_state_dict(torch.load(\"trained_models\\mlp.pt\"))\n",
    "cnn.load_state_dict(torch.load(\"trained_models\\cnn.pt\"))\n",
    "cnn_batch.load_state_dict(torch.load(\"trained_models\\cnn_batch.pt\"))\n",
    "\n",
    "images, labels = next(iter(testloader))\n",
    "reverse_dict = {b:a for a,b in testset.class_to_idx.items()}\n",
    "\n",
    "preds_mlp = torch.exp(mlp(images))\n",
    "top_p_mlp, top_class = preds_mlp.topk(1, dim=1)\n",
    "preds_mlp = [reverse_dict[int(a.numpy())] for a in top_class]\n",
    "\n",
    "preds_cnn = torch.exp(cnn(images))\n",
    "top_p_cnn, top_class = preds_cnn.topk(1, dim=1)\n",
    "preds_cnn = [reverse_dict[int(a.numpy())] for a in top_class]\n",
    "\n",
    "preds_cnn_batch = torch.exp(cnn_batch(images))\n",
    "top_p_cnn_batch, top_class = preds_cnn_batch.topk(1, dim=1)\n",
    "preds_cnn_batch = [reverse_dict[int(a.numpy())] for a in top_class]\n",
    "\n",
    "fig = plt.figure(figsize=(20, 4))\n",
    "plot_size=4\n",
    "for idx in np.arange(plot_size):\n",
    "    ax = fig.add_subplot(2, plot_size/2, idx+1, xticks=[], yticks=[])\n",
    "    ax.imshow(np.squeeze(images[idx][0].numpy()), cmap='gray')\n",
    "    title = \"label {} with mlp, cnn, cnn_batch preds: {}, {}, {} proba {:.2f}, {:.2f}, {:.2f}\".format(\n",
    "    reverse_dict[int(labels[idx])], preds_mlp[idx], preds_cnn[idx], preds_cnn_batch[idx],\n",
    "    float(top_p_mlp[idx]), float(top_p_cnn[idx]), float(top_p_cnn_batch[idx])\n",
    "    )\n",
    "    plt.title(title) "
   ]
  }
 ],
 "metadata": {
  "kernelspec": {
   "display_name": "Python 3",
   "language": "python",
   "name": "python3"
  },
  "language_info": {
   "codemirror_mode": {
    "name": "ipython",
    "version": 3
   },
   "file_extension": ".py",
   "mimetype": "text/x-python",
   "name": "python",
   "nbconvert_exporter": "python",
   "pygments_lexer": "ipython3",
   "version": "3.5.6"
  }
 },
 "nbformat": 4,
 "nbformat_minor": 4
}
